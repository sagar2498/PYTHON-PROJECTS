{
 "cells": [
  {
   "cell_type": "code",
   "execution_count": 1,
   "id": "ce76997b",
   "metadata": {},
   "outputs": [],
   "source": [
    "import json\n",
    "from difflib import get_close_matches\n",
    "import sys\n",
    "\n"
   ]
  },
  {
   "cell_type": "code",
   "execution_count": 2,
   "id": "07d8c6f3",
   "metadata": {},
   "outputs": [],
   "source": [
    "f1=open(\"words.txt\",'w')\n",
    "dict1={\"Python\":\"Coding Language\"}\n",
    "json.dump(dict1,f1)\n",
    "f1.close()"
   ]
  },
  {
   "cell_type": "code",
   "execution_count": 3,
   "id": "6e5bbbb4",
   "metadata": {},
   "outputs": [],
   "source": [
    "def Add():\n",
    "    f = open('words.txt','r+') \n",
    "    words = json.load(f) \n",
    "    word = input('Enter word: ') \n",
    "    mean = input('Enter meaning : ') \n",
    "    words[word]=mean\n",
    "    f.seek(0)\n",
    "    json.dump(words,f,indent = 4) \n",
    "    f.truncate()"
   ]
  },
  {
   "cell_type": "code",
   "execution_count": 4,
   "id": "8f771171",
   "metadata": {},
   "outputs": [],
   "source": [
    "def Meaning():\n",
    "    words = json.load(open(\"words.txt\",\"r\"))\n",
    "    word = input('Enter word to search : ')\n",
    "    word = word.lower() \n",
    "    if word in words: \n",
    "        print(words[word],'\\n')\n",
    "    elif word.title() in words: \n",
    "        print(words[word.title()],'\\n')\n",
    "    elif word.upper() in words: \n",
    "        print(words[word.upper()],'\\n') \n",
    "    elif len(get_close_matches(word , words.keys())) > 0 :\n",
    "        print(\"did you mean %s instead\\n\" %get_close_matches(word, words.keys())[0])\n",
    "        decide = input(\"press y for yes or n for no : \")\n",
    "        if decide == \"y\":\n",
    "            print(words[get_close_matches(word , words.keys())[0]])\n",
    "        elif decide == \"n\":\n",
    "            print(\"Word Not Found \\n\")\n",
    "        else: \n",
    "            print(\"You have entered wrong input please enter just y or n :\")"
   ]
  },
  {
   "cell_type": "code",
   "execution_count": 5,
   "id": "9908c3e3",
   "metadata": {},
   "outputs": [],
   "source": [
    "def Update():\n",
    "    f = open(\"words.txt\",'r+')\n",
    "    words = json.load(f)\n",
    "    word = input('Enter the word to update: ')\n",
    "    if word in words: \n",
    "        meaning = input('Enter the meaning to update : ')\n",
    "        words[word] = meaning\n",
    "        f.seek(0)\n",
    "    else :\n",
    "        print(\"The word not exist in the data file \\n\")\n",
    "    json.dump(words,f,indent=4)\n",
    "    f.truncate()\n"
   ]
  },
  {
   "cell_type": "code",
   "execution_count": 6,
   "id": "f121768c",
   "metadata": {},
   "outputs": [],
   "source": [
    "def Exit():\n",
    "    print('Exiting the program.....\\n')\n",
    "    sys.exit()"
   ]
  },
  {
   "cell_type": "code",
   "execution_count": 7,
   "id": "bdb99209",
   "metadata": {},
   "outputs": [
    {
     "name": "stdout",
     "output_type": "stream",
     "text": [
      "Main Menu \n",
      "1.Add a new word\n",
      "2.Find the meaning\n",
      "3.Update a word\n",
      "4.Exit\n",
      "Select your option : 1\n",
      "Enter word: sagar\n",
      "Enter meaning : sea\n",
      "Main Menu \n",
      "1.Add a new word\n",
      "2.Find the meaning\n",
      "3.Update a word\n",
      "4.Exit\n",
      "Select your option : 2\n",
      "Enter word to search : sagar\n",
      "sea \n",
      "\n",
      "Main Menu \n",
      "1.Add a new word\n",
      "2.Find the meaning\n",
      "3.Update a word\n",
      "4.Exit\n",
      "Select your option : 3\n",
      "Enter the word to update: ravi\n",
      "The word not exist in the data file \n",
      "\n",
      "Main Menu \n",
      "1.Add a new word\n",
      "2.Find the meaning\n",
      "3.Update a word\n",
      "4.Exit\n",
      "Select your option : sagar\n",
      "You have selected invalid choice. Please select a valid key\n"
     ]
    },
    {
     "ename": "KeyboardInterrupt",
     "evalue": "Interrupted by user",
     "output_type": "error",
     "traceback": [
      "\u001b[1;31m---------------------------------------------------------------------------\u001b[0m",
      "\u001b[1;31mKeyboardInterrupt\u001b[0m                         Traceback (most recent call last)",
      "\u001b[1;32m~\\AppData\\Local\\Temp\\ipykernel_7288\\3169070048.py\u001b[0m in \u001b[0;36m<module>\u001b[1;34m\u001b[0m\n\u001b[0;32m     16\u001b[0m \u001b[1;33m\u001b[0m\u001b[0m\n\u001b[0;32m     17\u001b[0m \u001b[1;32mwhile\u001b[0m \u001b[1;32mTrue\u001b[0m\u001b[1;33m:\u001b[0m\u001b[1;33m\u001b[0m\u001b[1;33m\u001b[0m\u001b[0m\n\u001b[1;32m---> 18\u001b[1;33m     \u001b[0mMenu\u001b[0m\u001b[1;33m(\u001b[0m\u001b[1;33m)\u001b[0m\u001b[1;33m\u001b[0m\u001b[1;33m\u001b[0m\u001b[0m\n\u001b[0m",
      "\u001b[1;32m~\\AppData\\Local\\Temp\\ipykernel_7288\\3169070048.py\u001b[0m in \u001b[0;36mMenu\u001b[1;34m()\u001b[0m\n\u001b[0;32m      3\u001b[0m \u001b[1;33m\u001b[0m\u001b[0m\n\u001b[0;32m      4\u001b[0m     \u001b[1;32mwhile\u001b[0m \u001b[1;32mTrue\u001b[0m\u001b[1;33m:\u001b[0m\u001b[1;33m\u001b[0m\u001b[1;33m\u001b[0m\u001b[0m\n\u001b[1;32m----> 5\u001b[1;33m         \u001b[0mchoice\u001b[0m \u001b[1;33m=\u001b[0m \u001b[0minput\u001b[0m\u001b[1;33m(\u001b[0m\u001b[1;34m'Select your option : '\u001b[0m\u001b[1;33m)\u001b[0m\u001b[1;33m\u001b[0m\u001b[1;33m\u001b[0m\u001b[0m\n\u001b[0m\u001b[0;32m      6\u001b[0m         \u001b[1;32mif\u001b[0m \u001b[0mchoice\u001b[0m \u001b[1;33m==\u001b[0m \u001b[1;34m'1'\u001b[0m\u001b[1;33m:\u001b[0m\u001b[1;33m\u001b[0m\u001b[1;33m\u001b[0m\u001b[0m\n\u001b[0;32m      7\u001b[0m             \u001b[1;32mreturn\u001b[0m  \u001b[0mAdd\u001b[0m\u001b[1;33m(\u001b[0m\u001b[1;33m)\u001b[0m\u001b[1;33m\u001b[0m\u001b[1;33m\u001b[0m\u001b[0m\n",
      "\u001b[1;32m~\\anaconda3\\lib\\site-packages\\ipykernel\\kernelbase.py\u001b[0m in \u001b[0;36mraw_input\u001b[1;34m(self, prompt)\u001b[0m\n\u001b[0;32m   1260\u001b[0m             \u001b[0mmsg\u001b[0m \u001b[1;33m=\u001b[0m \u001b[1;34m\"raw_input was called, but this frontend does not support input requests.\"\u001b[0m\u001b[1;33m\u001b[0m\u001b[1;33m\u001b[0m\u001b[0m\n\u001b[0;32m   1261\u001b[0m             \u001b[1;32mraise\u001b[0m \u001b[0mStdinNotImplementedError\u001b[0m\u001b[1;33m(\u001b[0m\u001b[0mmsg\u001b[0m\u001b[1;33m)\u001b[0m\u001b[1;33m\u001b[0m\u001b[1;33m\u001b[0m\u001b[0m\n\u001b[1;32m-> 1262\u001b[1;33m         return self._input_request(\n\u001b[0m\u001b[0;32m   1263\u001b[0m             \u001b[0mstr\u001b[0m\u001b[1;33m(\u001b[0m\u001b[0mprompt\u001b[0m\u001b[1;33m)\u001b[0m\u001b[1;33m,\u001b[0m\u001b[1;33m\u001b[0m\u001b[1;33m\u001b[0m\u001b[0m\n\u001b[0;32m   1264\u001b[0m             \u001b[0mself\u001b[0m\u001b[1;33m.\u001b[0m\u001b[0m_parent_ident\u001b[0m\u001b[1;33m[\u001b[0m\u001b[1;34m\"shell\"\u001b[0m\u001b[1;33m]\u001b[0m\u001b[1;33m,\u001b[0m\u001b[1;33m\u001b[0m\u001b[1;33m\u001b[0m\u001b[0m\n",
      "\u001b[1;32m~\\anaconda3\\lib\\site-packages\\ipykernel\\kernelbase.py\u001b[0m in \u001b[0;36m_input_request\u001b[1;34m(self, prompt, ident, parent, password)\u001b[0m\n\u001b[0;32m   1303\u001b[0m                 \u001b[1;31m# re-raise KeyboardInterrupt, to truncate traceback\u001b[0m\u001b[1;33m\u001b[0m\u001b[1;33m\u001b[0m\u001b[0m\n\u001b[0;32m   1304\u001b[0m                 \u001b[0mmsg\u001b[0m \u001b[1;33m=\u001b[0m \u001b[1;34m\"Interrupted by user\"\u001b[0m\u001b[1;33m\u001b[0m\u001b[1;33m\u001b[0m\u001b[0m\n\u001b[1;32m-> 1305\u001b[1;33m                 \u001b[1;32mraise\u001b[0m \u001b[0mKeyboardInterrupt\u001b[0m\u001b[1;33m(\u001b[0m\u001b[0mmsg\u001b[0m\u001b[1;33m)\u001b[0m \u001b[1;32mfrom\u001b[0m \u001b[1;32mNone\u001b[0m\u001b[1;33m\u001b[0m\u001b[1;33m\u001b[0m\u001b[0m\n\u001b[0m\u001b[0;32m   1306\u001b[0m             \u001b[1;32mexcept\u001b[0m \u001b[0mException\u001b[0m\u001b[1;33m:\u001b[0m\u001b[1;33m\u001b[0m\u001b[1;33m\u001b[0m\u001b[0m\n\u001b[0;32m   1307\u001b[0m                 \u001b[0mself\u001b[0m\u001b[1;33m.\u001b[0m\u001b[0mlog\u001b[0m\u001b[1;33m.\u001b[0m\u001b[0mwarning\u001b[0m\u001b[1;33m(\u001b[0m\u001b[1;34m\"Invalid Message:\"\u001b[0m\u001b[1;33m,\u001b[0m \u001b[0mexc_info\u001b[0m\u001b[1;33m=\u001b[0m\u001b[1;32mTrue\u001b[0m\u001b[1;33m)\u001b[0m\u001b[1;33m\u001b[0m\u001b[1;33m\u001b[0m\u001b[0m\n",
      "\u001b[1;31mKeyboardInterrupt\u001b[0m: Interrupted by user"
     ]
    }
   ],
   "source": [
    "def Menu():\n",
    "    print('Main Menu \\n1.Add a new word\\n2.Find the meaning\\n3.Update a word\\n4.Exit')\n",
    "    \n",
    "    while True: \n",
    "        choice = input('Select your option : ')\n",
    "        if choice == '1':\n",
    "            return  Add()\n",
    "        elif choice == '2':\n",
    "            return Meaning()\n",
    "        elif choice == '3':\n",
    "            return Update()\n",
    "        elif choice == '4':\n",
    "            return Exit()\n",
    "        else:\n",
    "            print('You have selected invalid choice. Please select a valid key')\n",
    "        \n",
    "while True:\n",
    "    Menu()\n"
   ]
  },
  {
   "cell_type": "code",
   "execution_count": null,
   "id": "66235a25",
   "metadata": {},
   "outputs": [],
   "source": []
  },
  {
   "cell_type": "code",
   "execution_count": null,
   "id": "47ce23ed",
   "metadata": {},
   "outputs": [],
   "source": []
  },
  {
   "cell_type": "code",
   "execution_count": null,
   "id": "0e9921b3",
   "metadata": {},
   "outputs": [],
   "source": []
  },
  {
   "cell_type": "code",
   "execution_count": null,
   "id": "835fac4b",
   "metadata": {},
   "outputs": [],
   "source": []
  },
  {
   "cell_type": "code",
   "execution_count": null,
   "id": "97dc11c3",
   "metadata": {},
   "outputs": [],
   "source": []
  }
 ],
 "metadata": {
  "kernelspec": {
   "display_name": "Python 3 (ipykernel)",
   "language": "python",
   "name": "python3"
  },
  "language_info": {
   "codemirror_mode": {
    "name": "ipython",
    "version": 3
   },
   "file_extension": ".py",
   "mimetype": "text/x-python",
   "name": "python",
   "nbconvert_exporter": "python",
   "pygments_lexer": "ipython3",
   "version": "3.9.18"
  }
 },
 "nbformat": 4,
 "nbformat_minor": 5
}
