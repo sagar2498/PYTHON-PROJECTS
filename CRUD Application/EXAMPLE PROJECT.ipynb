{
 "cells": [
  {
   "cell_type": "code",
   "execution_count": 1,
   "id": "43746677",
   "metadata": {},
   "outputs": [],
   "source": [
    "# liberaries\n",
    "\n",
    "from tkinter import *\n",
    "import sqlite3\n",
    "import tkinter.ttk as ttk\n",
    "import tkinter.messagebox as tkMessageBox\n"
   ]
  },
  {
   "cell_type": "code",
   "execution_count": 2,
   "id": "a1e6ab7e",
   "metadata": {},
   "outputs": [
    {
     "data": {
      "text/plain": [
       "''"
      ]
     },
     "execution_count": 2,
     "metadata": {},
     "output_type": "execute_result"
    }
   ],
   "source": [
    "root =Tk()\n",
    "root.title('A Simple CRUD application')\n"
   ]
  },
  {
   "cell_type": "code",
   "execution_count": 3,
   "id": "8486c134",
   "metadata": {},
   "outputs": [],
   "source": [
    "# methods\n",
    "def Database():\n",
    "    global conn,cursor\n",
    "    conn=sqlite3.connect('simple.db')\n",
    "    cursor=conn.cursor()\n",
    "    cursor.execute('CREATE TABLE IF NOT EXISTS member(mem_id INTEGER PRIMARY KEY AUTOINCREMENT NOT NULL,firstname TEXT,lastname TEXT,gender TEXT,usernameTEXT,password TEXT)')\n",
    "    \n",
    "\n",
    "def Create():\n",
    "    if FIRSTNAME.get()== \"\"or LASTNAME.get()==\"\"or GENDER.get()==\"\" or ADDRESS.get()=='' or USERNAME.get()==\"\" or PASSWORD.get()==\"\":\n",
    "        txt_result.config(text='Please enterall the firlds',fd='red')\n",
    "    else:\n",
    "        Database()\n",
    "        cursor.execute('INSERT INTOmenbe(firstname,lastname,gender,address,username,password)VALUES(?,?,?,?,?,?)',str(FIRSTNAME.get()),str(LASTNAME.get()),str(GENDER.get()),str(ADDRESS.get()),str(USERNAME.get()),str(PASSWORD.get()))\n",
    "        conn.commit()\n",
    "        FIRSTNAME.set('')\n",
    "        LASTNAME.set('')\n",
    "        GENDER.set('')\n",
    "        ADDRESS.set('')\n",
    "        USERNAME.set('')\n",
    "        PASSWORD.set('')\n",
    "        cursor.close()\n",
    "        conn.close()\n",
    "        txt_result.config(text='ReadingInserted !',fg='green')\n",
    "        \n",
    "        \n",
    "def read():\n",
    "    tree.delete(*tree.get_children)\n",
    "    Database()\n",
    "    cursor.execute('SELECT * FROM member ORDER BY lastname ASC')\n",
    "    fetch = cursor.fetchall()\n",
    "    for data in fetch:\n",
    "        tree.insert('','end',values=(data[1],data[2],data[3],data[4],data[5],data[6]))\n",
    "    cursor.close()\n",
    "    txt_result.config(text='Successfully fetched data',fg='black')\n",
    "    \n",
    "def Exit():\n",
    "    result = tkMessageBox.askquestion('Do you want to exit ? (y/n)',icon= 'warning')\n",
    "    if result == 'yes':\n",
    "        root.destroy()\n",
    "        exit()\n",
    "    \n",
    "            \n",
    "            \n",
    "    "
   ]
  },
  {
   "cell_type": "code",
   "execution_count": 4,
   "id": "67e061c0",
   "metadata": {},
   "outputs": [],
   "source": [
    "# Variable Declaration\n",
    "FIRSTNAME =StringVar()\n",
    "LASTNAME = StringVar()\n",
    "GENDER = StringVar()\n",
    "ADDRESS = StringVar()\n",
    "USERNAME = StringVar()\n",
    "PASSWORD = StringVar()"
   ]
  },
  {
   "cell_type": "code",
   "execution_count": 5,
   "id": "b83eb9f7",
   "metadata": {},
   "outputs": [],
   "source": [
    "# Frame\n",
    "\n",
    "Top = Frame(root,width=900,height=50,bd=8,relief='raise')\n",
    "Top.pack(side=TOP)\n",
    "Left = Frame(root,width=300,height=500,bd=8,relief='raise')\n",
    "Left.pack(side =LEFT)\n",
    "Right=Frame(root,width=600,height=500,bd=8,relief='raise')\n",
    "Right.pack(side =RIGHT)\n",
    "\n",
    "Forms = Frame(Left,width=300,height=450)\n",
    "Forms.pack(side=TOP)\n",
    "\n",
    "Buttons=Frame(Left,width=300,height=100,bd=8,relief='raise')\n",
    "Buttons.pack(side=BOTTOM)\n",
    "\n",
    "RadioGroup=Frame(Forms)\n",
    "Male=Radiobutton(RadioGroup,text='Male',variable=GENDER,value='Male').pack(side=LEFT)\n",
    "Female=Radiobutton(RadioGroup,text='Female',variable=GENDER,value='Female').pack(side=LEFT)"
   ]
  },
  {
   "cell_type": "code",
   "execution_count": 6,
   "id": "830842d2",
   "metadata": {},
   "outputs": [],
   "source": [
    "# Labels\n",
    "\n",
    "txt_title=Label(Top,width=900,text='A Simple CRUD Application')"
   ]
  },
  {
   "cell_type": "code",
   "execution_count": 7,
   "id": "c962f3d8",
   "metadata": {},
   "outputs": [
    {
     "ename": "SyntaxError",
     "evalue": "invalid syntax (819757739.py, line 5)",
     "output_type": "error",
     "traceback": [
      "\u001b[1;36m  File \u001b[1;32m\"C:\\Users\\HP\\AppData\\Local\\Temp\\ipykernel_9928\\819757739.py\"\u001b[1;36m, line \u001b[1;32m5\u001b[0m\n\u001b[1;33m    txt_firstname =Label(Forms,text=width=900,font=('arial',24),text = 'python: Simple CRUD Application')\u001b[0m\n\u001b[1;37m                                         ^\u001b[0m\n\u001b[1;31mSyntaxError\u001b[0m\u001b[1;31m:\u001b[0m invalid syntax\n"
     ]
    }
   ],
   "source": [
    "#Label widget\n",
    "\n",
    "txt_title =Label(Top,width=900,font=('arial',24),text = 'python: Simple CRUD Application')\n",
    "txt_title.pack()\n",
    "txt_firstname =Label(Forms,text=width=900,font=('arial',24),text = 'python: Simple CRUD Application')\n",
    "txt_title.pack()"
   ]
  },
  {
   "cell_type": "code",
   "execution_count": null,
   "id": "ce37885f",
   "metadata": {},
   "outputs": [],
   "source": []
  }
 ],
 "metadata": {
  "kernelspec": {
   "display_name": "Python 3 (ipykernel)",
   "language": "python",
   "name": "python3"
  },
  "language_info": {
   "codemirror_mode": {
    "name": "ipython",
    "version": 3
   },
   "file_extension": ".py",
   "mimetype": "text/x-python",
   "name": "python",
   "nbconvert_exporter": "python",
   "pygments_lexer": "ipython3",
   "version": "3.9.18"
  }
 },
 "nbformat": 4,
 "nbformat_minor": 5
}
